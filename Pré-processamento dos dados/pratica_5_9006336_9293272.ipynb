{
 "cells": [
  {
   "cell_type": "markdown",
   "metadata": {},
   "source": [
    "# Atividade Prática 5\n",
    "\n",
    ">### Igor Martinelli           9006336\n",
    "\n",
    ">### Zoltán Hirata Jetsmen     9293272\n",
    "\n",
    "## Para a presente prática será escolhido o conjunto de dados wine, que é um conjunto de dados de classificação que ja fora utilizado nas práticas anteriores."
   ]
  },
  {
   "cell_type": "code",
   "execution_count": 1,
   "metadata": {},
   "outputs": [],
   "source": [
    "import pandas as pd\n",
    "import numpy as np\n",
    "from sklearn import datasets\n",
    "import matplotlib.pyplot as plt\n",
    "from sklearn import preprocessing\n",
    "from scipy import stats\n",
    "import seaborn as sns"
   ]
  },
  {
   "cell_type": "code",
   "execution_count": 2,
   "metadata": {},
   "outputs": [
    {
     "data": {
      "text/html": [
       "<div>\n",
       "<style scoped>\n",
       "    .dataframe tbody tr th:only-of-type {\n",
       "        vertical-align: middle;\n",
       "    }\n",
       "\n",
       "    .dataframe tbody tr th {\n",
       "        vertical-align: top;\n",
       "    }\n",
       "\n",
       "    .dataframe thead th {\n",
       "        text-align: right;\n",
       "    }\n",
       "</style>\n",
       "<table border=\"1\" class=\"dataframe\">\n",
       "  <thead>\n",
       "    <tr style=\"text-align: right;\">\n",
       "      <th></th>\n",
       "      <th>alcohol</th>\n",
       "      <th>malic_acid</th>\n",
       "      <th>ash</th>\n",
       "      <th>alcalinity_of_ash</th>\n",
       "      <th>magnesium</th>\n",
       "      <th>total_phenols</th>\n",
       "      <th>flavanoids</th>\n",
       "      <th>nonflavanoid_phenols</th>\n",
       "      <th>proanthocyanins</th>\n",
       "      <th>color_intensity</th>\n",
       "      <th>hue</th>\n",
       "      <th>od280/od315_of_diluted_wines</th>\n",
       "      <th>proline</th>\n",
       "      <th>target</th>\n",
       "    </tr>\n",
       "  </thead>\n",
       "  <tbody>\n",
       "    <tr>\n",
       "      <th>0</th>\n",
       "      <td>14.23</td>\n",
       "      <td>1.71</td>\n",
       "      <td>2.43</td>\n",
       "      <td>15.6</td>\n",
       "      <td>127.0</td>\n",
       "      <td>2.80</td>\n",
       "      <td>3.06</td>\n",
       "      <td>0.28</td>\n",
       "      <td>2.29</td>\n",
       "      <td>5.64</td>\n",
       "      <td>1.04</td>\n",
       "      <td>3.92</td>\n",
       "      <td>1065.0</td>\n",
       "      <td>0.0</td>\n",
       "    </tr>\n",
       "    <tr>\n",
       "      <th>1</th>\n",
       "      <td>13.20</td>\n",
       "      <td>1.78</td>\n",
       "      <td>2.14</td>\n",
       "      <td>11.2</td>\n",
       "      <td>100.0</td>\n",
       "      <td>2.65</td>\n",
       "      <td>2.76</td>\n",
       "      <td>0.26</td>\n",
       "      <td>1.28</td>\n",
       "      <td>4.38</td>\n",
       "      <td>1.05</td>\n",
       "      <td>3.40</td>\n",
       "      <td>1050.0</td>\n",
       "      <td>0.0</td>\n",
       "    </tr>\n",
       "    <tr>\n",
       "      <th>2</th>\n",
       "      <td>13.16</td>\n",
       "      <td>2.36</td>\n",
       "      <td>2.67</td>\n",
       "      <td>18.6</td>\n",
       "      <td>101.0</td>\n",
       "      <td>2.80</td>\n",
       "      <td>3.24</td>\n",
       "      <td>0.30</td>\n",
       "      <td>2.81</td>\n",
       "      <td>5.68</td>\n",
       "      <td>1.03</td>\n",
       "      <td>3.17</td>\n",
       "      <td>1185.0</td>\n",
       "      <td>0.0</td>\n",
       "    </tr>\n",
       "    <tr>\n",
       "      <th>3</th>\n",
       "      <td>14.37</td>\n",
       "      <td>1.95</td>\n",
       "      <td>2.50</td>\n",
       "      <td>16.8</td>\n",
       "      <td>113.0</td>\n",
       "      <td>3.85</td>\n",
       "      <td>3.49</td>\n",
       "      <td>0.24</td>\n",
       "      <td>2.18</td>\n",
       "      <td>7.80</td>\n",
       "      <td>0.86</td>\n",
       "      <td>3.45</td>\n",
       "      <td>1480.0</td>\n",
       "      <td>0.0</td>\n",
       "    </tr>\n",
       "    <tr>\n",
       "      <th>4</th>\n",
       "      <td>13.24</td>\n",
       "      <td>2.59</td>\n",
       "      <td>2.87</td>\n",
       "      <td>21.0</td>\n",
       "      <td>118.0</td>\n",
       "      <td>2.80</td>\n",
       "      <td>2.69</td>\n",
       "      <td>0.39</td>\n",
       "      <td>1.82</td>\n",
       "      <td>4.32</td>\n",
       "      <td>1.04</td>\n",
       "      <td>2.93</td>\n",
       "      <td>735.0</td>\n",
       "      <td>0.0</td>\n",
       "    </tr>\n",
       "  </tbody>\n",
       "</table>\n",
       "</div>"
      ],
      "text/plain": [
       "   alcohol  malic_acid   ash  alcalinity_of_ash  magnesium  total_phenols  \\\n",
       "0    14.23        1.71  2.43               15.6      127.0           2.80   \n",
       "1    13.20        1.78  2.14               11.2      100.0           2.65   \n",
       "2    13.16        2.36  2.67               18.6      101.0           2.80   \n",
       "3    14.37        1.95  2.50               16.8      113.0           3.85   \n",
       "4    13.24        2.59  2.87               21.0      118.0           2.80   \n",
       "\n",
       "   flavanoids  nonflavanoid_phenols  proanthocyanins  color_intensity   hue  \\\n",
       "0        3.06                  0.28             2.29             5.64  1.04   \n",
       "1        2.76                  0.26             1.28             4.38  1.05   \n",
       "2        3.24                  0.30             2.81             5.68  1.03   \n",
       "3        3.49                  0.24             2.18             7.80  0.86   \n",
       "4        2.69                  0.39             1.82             4.32  1.04   \n",
       "\n",
       "   od280/od315_of_diluted_wines  proline  target  \n",
       "0                          3.92   1065.0     0.0  \n",
       "1                          3.40   1050.0     0.0  \n",
       "2                          3.17   1185.0     0.0  \n",
       "3                          3.45   1480.0     0.0  \n",
       "4                          2.93    735.0     0.0  "
      ]
     },
     "execution_count": 2,
     "metadata": {},
     "output_type": "execute_result"
    }
   ],
   "source": [
    "wine = datasets.load_wine()\n",
    "wine = pd.DataFrame(data= np.c_[wine['data'], wine['target']],\n",
    "                     columns= wine['feature_names'] + ['target'])\n",
    "\n",
    "wine.head()"
   ]
  },
  {
   "cell_type": "markdown",
   "metadata": {},
   "source": [
    ">## Atividade 1 - Balanceamento de classes"
   ]
  },
  {
   "cell_type": "code",
   "execution_count": 3,
   "metadata": {},
   "outputs": [
    {
     "data": {
      "text/plain": [
       "1.0    71\n",
       "0.0    59\n",
       "2.0    48\n",
       "Name: target, dtype: int64"
      ]
     },
     "execution_count": 3,
     "metadata": {},
     "output_type": "execute_result"
    }
   ],
   "source": [
    "wine.target.value_counts()"
   ]
  },
  {
   "cell_type": "markdown",
   "metadata": {},
   "source": [
    ">### Pela função acima, verificamos que o conjunto possui um desbalanceamento de classes, sendo a maior diferença entre as classes 1 e 2, igual a 23. Dessa forma, vamos utilizar técnicas de sub e superamostragem para realizar o balanceamento das classes."
   ]
  },
  {
   "cell_type": "code",
   "execution_count": 4,
   "metadata": {},
   "outputs": [
    {
     "data": {
      "text/html": [
       "<div>\n",
       "<style scoped>\n",
       "    .dataframe tbody tr th:only-of-type {\n",
       "        vertical-align: middle;\n",
       "    }\n",
       "\n",
       "    .dataframe tbody tr th {\n",
       "        vertical-align: top;\n",
       "    }\n",
       "\n",
       "    .dataframe thead th {\n",
       "        text-align: right;\n",
       "    }\n",
       "</style>\n",
       "<table border=\"1\" class=\"dataframe\">\n",
       "  <thead>\n",
       "    <tr style=\"text-align: right;\">\n",
       "      <th></th>\n",
       "      <th>alcohol</th>\n",
       "      <th>malic_acid</th>\n",
       "      <th>ash</th>\n",
       "      <th>alcalinity_of_ash</th>\n",
       "      <th>magnesium</th>\n",
       "      <th>total_phenols</th>\n",
       "      <th>flavanoids</th>\n",
       "      <th>nonflavanoid_phenols</th>\n",
       "      <th>proanthocyanins</th>\n",
       "      <th>color_intensity</th>\n",
       "      <th>hue</th>\n",
       "      <th>od280/od315_of_diluted_wines</th>\n",
       "      <th>proline</th>\n",
       "      <th>target</th>\n",
       "    </tr>\n",
       "  </thead>\n",
       "  <tbody>\n",
       "    <tr>\n",
       "      <th>0</th>\n",
       "      <td>14.06</td>\n",
       "      <td>2.15</td>\n",
       "      <td>2.61</td>\n",
       "      <td>17.6</td>\n",
       "      <td>121.0</td>\n",
       "      <td>2.60</td>\n",
       "      <td>2.51</td>\n",
       "      <td>0.31</td>\n",
       "      <td>1.25</td>\n",
       "      <td>5.05</td>\n",
       "      <td>1.06</td>\n",
       "      <td>3.58</td>\n",
       "      <td>1295.0</td>\n",
       "      <td>0.0</td>\n",
       "    </tr>\n",
       "    <tr>\n",
       "      <th>1</th>\n",
       "      <td>13.72</td>\n",
       "      <td>1.43</td>\n",
       "      <td>2.50</td>\n",
       "      <td>16.7</td>\n",
       "      <td>108.0</td>\n",
       "      <td>3.40</td>\n",
       "      <td>3.67</td>\n",
       "      <td>0.19</td>\n",
       "      <td>2.04</td>\n",
       "      <td>6.80</td>\n",
       "      <td>0.89</td>\n",
       "      <td>2.87</td>\n",
       "      <td>1285.0</td>\n",
       "      <td>0.0</td>\n",
       "    </tr>\n",
       "    <tr>\n",
       "      <th>2</th>\n",
       "      <td>13.68</td>\n",
       "      <td>1.83</td>\n",
       "      <td>2.36</td>\n",
       "      <td>17.2</td>\n",
       "      <td>104.0</td>\n",
       "      <td>2.42</td>\n",
       "      <td>2.69</td>\n",
       "      <td>0.42</td>\n",
       "      <td>1.97</td>\n",
       "      <td>3.84</td>\n",
       "      <td>1.23</td>\n",
       "      <td>2.87</td>\n",
       "      <td>990.0</td>\n",
       "      <td>0.0</td>\n",
       "    </tr>\n",
       "    <tr>\n",
       "      <th>3</th>\n",
       "      <td>13.83</td>\n",
       "      <td>1.65</td>\n",
       "      <td>2.60</td>\n",
       "      <td>17.2</td>\n",
       "      <td>94.0</td>\n",
       "      <td>2.45</td>\n",
       "      <td>2.99</td>\n",
       "      <td>0.22</td>\n",
       "      <td>2.29</td>\n",
       "      <td>5.60</td>\n",
       "      <td>1.24</td>\n",
       "      <td>3.37</td>\n",
       "      <td>1265.0</td>\n",
       "      <td>0.0</td>\n",
       "    </tr>\n",
       "    <tr>\n",
       "      <th>4</th>\n",
       "      <td>14.12</td>\n",
       "      <td>1.48</td>\n",
       "      <td>2.32</td>\n",
       "      <td>16.8</td>\n",
       "      <td>95.0</td>\n",
       "      <td>2.20</td>\n",
       "      <td>2.43</td>\n",
       "      <td>0.26</td>\n",
       "      <td>1.57</td>\n",
       "      <td>5.00</td>\n",
       "      <td>1.17</td>\n",
       "      <td>2.82</td>\n",
       "      <td>1280.0</td>\n",
       "      <td>0.0</td>\n",
       "    </tr>\n",
       "  </tbody>\n",
       "</table>\n",
       "</div>"
      ],
      "text/plain": [
       "   alcohol  malic_acid   ash  alcalinity_of_ash  magnesium  total_phenols  \\\n",
       "0    14.06        2.15  2.61               17.6      121.0           2.60   \n",
       "1    13.72        1.43  2.50               16.7      108.0           3.40   \n",
       "2    13.68        1.83  2.36               17.2      104.0           2.42   \n",
       "3    13.83        1.65  2.60               17.2       94.0           2.45   \n",
       "4    14.12        1.48  2.32               16.8       95.0           2.20   \n",
       "\n",
       "   flavanoids  nonflavanoid_phenols  proanthocyanins  color_intensity   hue  \\\n",
       "0        2.51                  0.31             1.25             5.05  1.06   \n",
       "1        3.67                  0.19             2.04             6.80  0.89   \n",
       "2        2.69                  0.42             1.97             3.84  1.23   \n",
       "3        2.99                  0.22             2.29             5.60  1.24   \n",
       "4        2.43                  0.26             1.57             5.00  1.17   \n",
       "\n",
       "   od280/od315_of_diluted_wines  proline  target  \n",
       "0                          3.58   1295.0     0.0  \n",
       "1                          2.87   1285.0     0.0  \n",
       "2                          2.87    990.0     0.0  \n",
       "3                          3.37   1265.0     0.0  \n",
       "4                          2.82   1280.0     0.0  "
      ]
     },
     "execution_count": 4,
     "metadata": {},
     "output_type": "execute_result"
    }
   ],
   "source": [
    "df_aux_oversampling = pd.DataFrame()\n",
    "for classes in wine.target.unique():\n",
    "    df_wine_oversampling = wine[wine.target == classes].sample(n=65, replace=True)\n",
    "    df_aux_oversampling = pd.concat([df_aux_oversampling, df_wine_oversampling], )\n",
    "    \n",
    "df_aux_oversampling.reset_index(drop=True, inplace=True)\n",
    "df_aux_oversampling.head()"
   ]
  },
  {
   "cell_type": "code",
   "execution_count": 5,
   "metadata": {},
   "outputs": [
    {
     "data": {
      "text/plain": [
       "2.0    65\n",
       "1.0    65\n",
       "0.0    65\n",
       "Name: target, dtype: int64"
      ]
     },
     "execution_count": 5,
     "metadata": {},
     "output_type": "execute_result"
    }
   ],
   "source": [
    "df_aux_oversampling.target.value_counts()"
   ]
  },
  {
   "cell_type": "code",
   "execution_count": 6,
   "metadata": {},
   "outputs": [
    {
     "data": {
      "text/html": [
       "<div>\n",
       "<style scoped>\n",
       "    .dataframe tbody tr th:only-of-type {\n",
       "        vertical-align: middle;\n",
       "    }\n",
       "\n",
       "    .dataframe tbody tr th {\n",
       "        vertical-align: top;\n",
       "    }\n",
       "\n",
       "    .dataframe thead th {\n",
       "        text-align: right;\n",
       "    }\n",
       "</style>\n",
       "<table border=\"1\" class=\"dataframe\">\n",
       "  <thead>\n",
       "    <tr style=\"text-align: right;\">\n",
       "      <th></th>\n",
       "      <th>alcohol</th>\n",
       "      <th>malic_acid</th>\n",
       "      <th>ash</th>\n",
       "      <th>alcalinity_of_ash</th>\n",
       "      <th>magnesium</th>\n",
       "      <th>total_phenols</th>\n",
       "      <th>flavanoids</th>\n",
       "      <th>nonflavanoid_phenols</th>\n",
       "      <th>proanthocyanins</th>\n",
       "      <th>color_intensity</th>\n",
       "      <th>hue</th>\n",
       "      <th>od280/od315_of_diluted_wines</th>\n",
       "      <th>proline</th>\n",
       "      <th>target</th>\n",
       "    </tr>\n",
       "  </thead>\n",
       "  <tbody>\n",
       "    <tr>\n",
       "      <th>0</th>\n",
       "      <td>13.68</td>\n",
       "      <td>1.83</td>\n",
       "      <td>2.36</td>\n",
       "      <td>17.2</td>\n",
       "      <td>104.0</td>\n",
       "      <td>2.42</td>\n",
       "      <td>2.69</td>\n",
       "      <td>0.42</td>\n",
       "      <td>1.97</td>\n",
       "      <td>3.84</td>\n",
       "      <td>1.23</td>\n",
       "      <td>2.87</td>\n",
       "      <td>990.0</td>\n",
       "      <td>0.0</td>\n",
       "    </tr>\n",
       "    <tr>\n",
       "      <th>1</th>\n",
       "      <td>13.83</td>\n",
       "      <td>1.57</td>\n",
       "      <td>2.62</td>\n",
       "      <td>20.0</td>\n",
       "      <td>115.0</td>\n",
       "      <td>2.95</td>\n",
       "      <td>3.40</td>\n",
       "      <td>0.40</td>\n",
       "      <td>1.72</td>\n",
       "      <td>6.60</td>\n",
       "      <td>1.13</td>\n",
       "      <td>2.57</td>\n",
       "      <td>1130.0</td>\n",
       "      <td>0.0</td>\n",
       "    </tr>\n",
       "    <tr>\n",
       "      <th>2</th>\n",
       "      <td>13.05</td>\n",
       "      <td>1.73</td>\n",
       "      <td>2.04</td>\n",
       "      <td>12.4</td>\n",
       "      <td>92.0</td>\n",
       "      <td>2.72</td>\n",
       "      <td>3.27</td>\n",
       "      <td>0.17</td>\n",
       "      <td>2.91</td>\n",
       "      <td>7.20</td>\n",
       "      <td>1.12</td>\n",
       "      <td>2.91</td>\n",
       "      <td>1150.0</td>\n",
       "      <td>0.0</td>\n",
       "    </tr>\n",
       "    <tr>\n",
       "      <th>3</th>\n",
       "      <td>14.83</td>\n",
       "      <td>1.64</td>\n",
       "      <td>2.17</td>\n",
       "      <td>14.0</td>\n",
       "      <td>97.0</td>\n",
       "      <td>2.80</td>\n",
       "      <td>2.98</td>\n",
       "      <td>0.29</td>\n",
       "      <td>1.98</td>\n",
       "      <td>5.20</td>\n",
       "      <td>1.08</td>\n",
       "      <td>2.85</td>\n",
       "      <td>1045.0</td>\n",
       "      <td>0.0</td>\n",
       "    </tr>\n",
       "    <tr>\n",
       "      <th>4</th>\n",
       "      <td>13.88</td>\n",
       "      <td>1.89</td>\n",
       "      <td>2.59</td>\n",
       "      <td>15.0</td>\n",
       "      <td>101.0</td>\n",
       "      <td>3.25</td>\n",
       "      <td>3.56</td>\n",
       "      <td>0.17</td>\n",
       "      <td>1.70</td>\n",
       "      <td>5.43</td>\n",
       "      <td>0.88</td>\n",
       "      <td>3.56</td>\n",
       "      <td>1095.0</td>\n",
       "      <td>0.0</td>\n",
       "    </tr>\n",
       "  </tbody>\n",
       "</table>\n",
       "</div>"
      ],
      "text/plain": [
       "   alcohol  malic_acid   ash  alcalinity_of_ash  magnesium  total_phenols  \\\n",
       "0    13.68        1.83  2.36               17.2      104.0           2.42   \n",
       "1    13.83        1.57  2.62               20.0      115.0           2.95   \n",
       "2    13.05        1.73  2.04               12.4       92.0           2.72   \n",
       "3    14.83        1.64  2.17               14.0       97.0           2.80   \n",
       "4    13.88        1.89  2.59               15.0      101.0           3.25   \n",
       "\n",
       "   flavanoids  nonflavanoid_phenols  proanthocyanins  color_intensity   hue  \\\n",
       "0        2.69                  0.42             1.97             3.84  1.23   \n",
       "1        3.40                  0.40             1.72             6.60  1.13   \n",
       "2        3.27                  0.17             2.91             7.20  1.12   \n",
       "3        2.98                  0.29             1.98             5.20  1.08   \n",
       "4        3.56                  0.17             1.70             5.43  0.88   \n",
       "\n",
       "   od280/od315_of_diluted_wines  proline  target  \n",
       "0                          2.87    990.0     0.0  \n",
       "1                          2.57   1130.0     0.0  \n",
       "2                          2.91   1150.0     0.0  \n",
       "3                          2.85   1045.0     0.0  \n",
       "4                          3.56   1095.0     0.0  "
      ]
     },
     "execution_count": 6,
     "metadata": {},
     "output_type": "execute_result"
    }
   ],
   "source": [
    "df_aux_undersampling = pd.DataFrame()\n",
    "for classes in wine.target.unique():\n",
    "    df_wine_undersampling = wine[wine.target == classes].sample(n=48, replace=True)\n",
    "    df_aux_undersampling = pd.concat([df_aux_undersampling, df_wine_undersampling], )\n",
    "    \n",
    "df_aux_undersampling.reset_index(drop=True, inplace=True)\n",
    "df_aux_undersampling.head()"
   ]
  },
  {
   "cell_type": "code",
   "execution_count": 7,
   "metadata": {},
   "outputs": [
    {
     "data": {
      "text/plain": [
       "2.0    48\n",
       "1.0    48\n",
       "0.0    48\n",
       "Name: target, dtype: int64"
      ]
     },
     "execution_count": 7,
     "metadata": {},
     "output_type": "execute_result"
    }
   ],
   "source": [
    "df_aux_undersampling.target.value_counts()"
   ]
  },
  {
   "cell_type": "markdown",
   "metadata": {},
   "source": [
    ">### Desse modo, realizou-se uma subamostragem do conjunto, removendo-se alguns exemplos da classe 0 e 1, igualando a 48. Também foi feita uma superamostragem adicionando amostras às classes 2 e 0, tornando todas iguais a 65."
   ]
  },
  {
   "cell_type": "code",
   "execution_count": 8,
   "metadata": {},
   "outputs": [],
   "source": [
    "from sklearn.svm import SVC, SVR\n",
    "from sklearn.tree import DecisionTreeClassifier, DecisionTreeRegressor\n",
    "from sklearn.neighbors import KNeighborsClassifier, KNeighborsRegressor\n",
    "\n",
    "from sklearn.model_selection import KFold\n",
    "from sklearn.metrics import mean_squared_error\n",
    "from numpy import mean, std\n",
    "\n",
    "\n",
    "def classificacao(data, columns, target, weights):\n",
    "    \"\"\"\n",
    "    Executa classificação do conjunto de dados passado\n",
    "    ---------------------------------------------------------------\n",
    "    data:       DataFrame. Conjunto de dados\n",
    "    columns:    Lista de inteiros. Índice das colunas utilizadas no treinamento e teste\n",
    "    target:     Inteiro. Índice da coluna alvo\n",
    "    weights:    Dicionário. Pesos das classes, cada chave do dicionário é a classe e seu valor a probabilidade\n",
    "    ---------------------------------------------------------------\n",
    "    Realiza a classificação em 3 modelos (SVM com kernel linear, \n",
    "    SVM com kernel polinomial de grau 3, Árvore de decisão)\n",
    "    Plot o gráfico de desempenho para cada classificador.\n",
    "    Retorna um dicionário com os classificadores treinados e as medidas de desempenho\n",
    "    \"\"\"\n",
    "    \n",
    "    # inicializa os modelos com os parâmetros solicitados\n",
    "    svm_l = SVC(C=10*len(data), kernel='linear', cache_size=500, max_iter=1e6, class_weight=weights)\n",
    "    svm_n = SVC(C=10*len(data), kernel='poly', degree=3, gamma=1, coef0=1, cache_size=500, max_iter=1e6, class_weight=weights)\n",
    "    dt = DecisionTreeClassifier(criterion='gini', splitter='best', min_samples_split=int(len(data)*0.1), class_weight=weights)\n",
    "    \n",
    "    clfs = [svm_l, svm_n, dt]\n",
    "    clfs_names = ['svm_linear', 'svm_poly', 'dt']\n",
    "    \n",
    "    # prepara validação cruzada\n",
    "    # faz divisão do dataset em 5 partes\n",
    "    cv = KFold(n_splits=5, shuffle=True)\n",
    "    \n",
    "    # itera para cada classificador fazendo treino e teste\n",
    "    results = {'svm_linear':[], 'svm_poly':[], 'dt':[]}\n",
    "    for c, c_name in zip(clfs, clfs_names):\n",
    "        for train_index, test_index in cv.split(data):\n",
    "            \n",
    "            # separa conjunto de treino e de teste\n",
    "            x_train, y_train = data.iloc[train_index, columns], data.iloc[train_index, target]\n",
    "            x_test, y_test = data.iloc[test_index, columns], data.iloc[test_index, target]\n",
    "            \n",
    "            # faz o treino do modelo\n",
    "            clf = c.fit(X=x_train, y=y_train)\n",
    "            \n",
    "            # realiza predição no conjunto de teste e salva o resultado\n",
    "            results[c_name].append( clf.score(x_test, y_test) )\n",
    "    \n",
    "    # faz o plot de desempenho dos classificadores\n",
    "    plt.figure(figsize=(8,8))\n",
    "    plt.bar(range(1, len(clfs)+1), [mean(results[name]) for name in clfs_names], \n",
    "                                yerr=[std(results[name]) for name in clfs_names])\n",
    "    plt.xticks(range(1, len(clfs)+1), clfs_names, rotation=45)\n",
    "    title = 'Desempenho dos classificadores - acurácia'\n",
    "    plt.title(title)\n",
    "    plt.show()\n",
    "    \n",
    "    return {'results': results, 'clfs':clfs}"
   ]
  },
  {
   "cell_type": "code",
   "execution_count": 9,
   "metadata": {},
   "outputs": [
    {
     "data": {
      "image/png": "[encoded data removed]",
      "text/plain": [
       "<Figure size 576x576 with 1 Axes>"
      ]
     },
     "metadata": {},
     "output_type": "display_data"
    },
    {
     "data": {
      "image/png": "[encoded data removed]",
      "text/plain": [
       "<Figure size 576x576 with 1 Axes>"
      ]
     },
     "metadata": {},
     "output_type": "display_data"
    },
    {
     "data": {
      "image/png": "[encoded data removed]",
      "text/plain": [
       "<Figure size 576x576 with 1 Axes>"
      ]
     },
     "metadata": {},
     "output_type": "display_data"
    }
   ],
   "source": [
    "target = len(wine.columns) -1\n",
    "columns = list(range(target))\n",
    "\n",
    "\n",
    "# classe 0 com probabilidade 100%, classes 1 e 2 com probs 0%\n",
    "clf = classificacao(wine, columns, target, weights={0:1, 1:0, 2:0})\n",
    "\n",
    "# classe 1 com probabilidade 100%, classes 0 e 2 com probs 0%\n",
    "clf = classificacao(wine, columns, target, weights={0:0, 1:1, 2:0})\n",
    "\n",
    "# classe 2 com probabilidade 100%, classes 0 e 1 com probs 0%\n",
    "clf = classificacao(wine, columns, target, weights={0:0, 1:0, 2:1})"
   ]
  },
  {
   "cell_type": "markdown",
   "metadata": {},
   "source": [
    ">### Com os gráficos plotados acima, podemos ver que a taxa de acerto da rede bate exatamente com o esperado, pois, temos aproximadamente 33%, 40% e 27% de exemplos das classes 0, 1 e 2, sendo condizente com o resultado apresentado"
   ]
  },
  {
   "cell_type": "markdown",
   "metadata": {},
   "source": [
    ">## Atividade 2 - Conversão de atributos"
   ]
  },
  {
   "cell_type": "code",
   "execution_count": 10,
   "metadata": {},
   "outputs": [
    {
     "data": {
      "text/plain": [
       "array([0., 1., 2.])"
      ]
     },
     "execution_count": 10,
     "metadata": {},
     "output_type": "execute_result"
    }
   ],
   "source": [
    "wine.target.unique()"
   ]
  },
  {
   "cell_type": "code",
   "execution_count": 11,
   "metadata": {
    "scrolled": true
   },
   "outputs": [
    {
     "data": {
      "text/html": [
       "<div>\n",
       "<style scoped>\n",
       "    .dataframe tbody tr th:only-of-type {\n",
       "        vertical-align: middle;\n",
       "    }\n",
       "\n",
       "    .dataframe tbody tr th {\n",
       "        vertical-align: top;\n",
       "    }\n",
       "\n",
       "    .dataframe thead th {\n",
       "        text-align: right;\n",
       "    }\n",
       "</style>\n",
       "<table border=\"1\" class=\"dataframe\">\n",
       "  <thead>\n",
       "    <tr style=\"text-align: right;\">\n",
       "      <th></th>\n",
       "      <th>target_0.0</th>\n",
       "      <th>target_1.0</th>\n",
       "      <th>target_2.0</th>\n",
       "    </tr>\n",
       "  </thead>\n",
       "  <tbody>\n",
       "    <tr>\n",
       "      <th>0</th>\n",
       "      <td>1</td>\n",
       "      <td>0</td>\n",
       "      <td>0</td>\n",
       "    </tr>\n",
       "    <tr>\n",
       "      <th>1</th>\n",
       "      <td>1</td>\n",
       "      <td>0</td>\n",
       "      <td>0</td>\n",
       "    </tr>\n",
       "    <tr>\n",
       "      <th>2</th>\n",
       "      <td>1</td>\n",
       "      <td>0</td>\n",
       "      <td>0</td>\n",
       "    </tr>\n",
       "    <tr>\n",
       "      <th>3</th>\n",
       "      <td>1</td>\n",
       "      <td>0</td>\n",
       "      <td>0</td>\n",
       "    </tr>\n",
       "    <tr>\n",
       "      <th>4</th>\n",
       "      <td>1</td>\n",
       "      <td>0</td>\n",
       "      <td>0</td>\n",
       "    </tr>\n",
       "    <tr>\n",
       "      <th>5</th>\n",
       "      <td>1</td>\n",
       "      <td>0</td>\n",
       "      <td>0</td>\n",
       "    </tr>\n",
       "    <tr>\n",
       "      <th>6</th>\n",
       "      <td>1</td>\n",
       "      <td>0</td>\n",
       "      <td>0</td>\n",
       "    </tr>\n",
       "    <tr>\n",
       "      <th>7</th>\n",
       "      <td>1</td>\n",
       "      <td>0</td>\n",
       "      <td>0</td>\n",
       "    </tr>\n",
       "    <tr>\n",
       "      <th>8</th>\n",
       "      <td>1</td>\n",
       "      <td>0</td>\n",
       "      <td>0</td>\n",
       "    </tr>\n",
       "    <tr>\n",
       "      <th>9</th>\n",
       "      <td>1</td>\n",
       "      <td>0</td>\n",
       "      <td>0</td>\n",
       "    </tr>\n",
       "    <tr>\n",
       "      <th>10</th>\n",
       "      <td>1</td>\n",
       "      <td>0</td>\n",
       "      <td>0</td>\n",
       "    </tr>\n",
       "    <tr>\n",
       "      <th>11</th>\n",
       "      <td>1</td>\n",
       "      <td>0</td>\n",
       "      <td>0</td>\n",
       "    </tr>\n",
       "    <tr>\n",
       "      <th>12</th>\n",
       "      <td>1</td>\n",
       "      <td>0</td>\n",
       "      <td>0</td>\n",
       "    </tr>\n",
       "    <tr>\n",
       "      <th>13</th>\n",
       "      <td>1</td>\n",
       "      <td>0</td>\n",
       "      <td>0</td>\n",
       "    </tr>\n",
       "    <tr>\n",
       "      <th>14</th>\n",
       "      <td>1</td>\n",
       "      <td>0</td>\n",
       "      <td>0</td>\n",
       "    </tr>\n",
       "    <tr>\n",
       "      <th>15</th>\n",
       "      <td>1</td>\n",
       "      <td>0</td>\n",
       "      <td>0</td>\n",
       "    </tr>\n",
       "    <tr>\n",
       "      <th>16</th>\n",
       "      <td>1</td>\n",
       "      <td>0</td>\n",
       "      <td>0</td>\n",
       "    </tr>\n",
       "    <tr>\n",
       "      <th>17</th>\n",
       "      <td>1</td>\n",
       "      <td>0</td>\n",
       "      <td>0</td>\n",
       "    </tr>\n",
       "    <tr>\n",
       "      <th>18</th>\n",
       "      <td>1</td>\n",
       "      <td>0</td>\n",
       "      <td>0</td>\n",
       "    </tr>\n",
       "    <tr>\n",
       "      <th>19</th>\n",
       "      <td>1</td>\n",
       "      <td>0</td>\n",
       "      <td>0</td>\n",
       "    </tr>\n",
       "    <tr>\n",
       "      <th>20</th>\n",
       "      <td>1</td>\n",
       "      <td>0</td>\n",
       "      <td>0</td>\n",
       "    </tr>\n",
       "    <tr>\n",
       "      <th>21</th>\n",
       "      <td>1</td>\n",
       "      <td>0</td>\n",
       "      <td>0</td>\n",
       "    </tr>\n",
       "    <tr>\n",
       "      <th>22</th>\n",
       "      <td>1</td>\n",
       "      <td>0</td>\n",
       "      <td>0</td>\n",
       "    </tr>\n",
       "    <tr>\n",
       "      <th>23</th>\n",
       "      <td>1</td>\n",
       "      <td>0</td>\n",
       "      <td>0</td>\n",
       "    </tr>\n",
       "    <tr>\n",
       "      <th>24</th>\n",
       "      <td>1</td>\n",
       "      <td>0</td>\n",
       "      <td>0</td>\n",
       "    </tr>\n",
       "    <tr>\n",
       "      <th>25</th>\n",
       "      <td>1</td>\n",
       "      <td>0</td>\n",
       "      <td>0</td>\n",
       "    </tr>\n",
       "    <tr>\n",
       "      <th>26</th>\n",
       "      <td>1</td>\n",
       "      <td>0</td>\n",
       "      <td>0</td>\n",
       "    </tr>\n",
       "    <tr>\n",
       "      <th>27</th>\n",
       "      <td>1</td>\n",
       "      <td>0</td>\n",
       "      <td>0</td>\n",
       "    </tr>\n",
       "    <tr>\n",
       "      <th>28</th>\n",
       "      <td>1</td>\n",
       "      <td>0</td>\n",
       "      <td>0</td>\n",
       "    </tr>\n",
       "    <tr>\n",
       "      <th>29</th>\n",
       "      <td>1</td>\n",
       "      <td>0</td>\n",
       "      <td>0</td>\n",
       "    </tr>\n",
       "    <tr>\n",
       "      <th>...</th>\n",
       "      <td>...</td>\n",
       "      <td>...</td>\n",
       "      <td>...</td>\n",
       "    </tr>\n",
       "    <tr>\n",
       "      <th>148</th>\n",
       "      <td>0</td>\n",
       "      <td>0</td>\n",
       "      <td>1</td>\n",
       "    </tr>\n",
       "    <tr>\n",
       "      <th>149</th>\n",
       "      <td>0</td>\n",
       "      <td>0</td>\n",
       "      <td>1</td>\n",
       "    </tr>\n",
       "    <tr>\n",
       "      <th>150</th>\n",
       "      <td>0</td>\n",
       "      <td>0</td>\n",
       "      <td>1</td>\n",
       "    </tr>\n",
       "    <tr>\n",
       "      <th>151</th>\n",
       "      <td>0</td>\n",
       "      <td>0</td>\n",
       "      <td>1</td>\n",
       "    </tr>\n",
       "    <tr>\n",
       "      <th>152</th>\n",
       "      <td>0</td>\n",
       "      <td>0</td>\n",
       "      <td>1</td>\n",
       "    </tr>\n",
       "    <tr>\n",
       "      <th>153</th>\n",
       "      <td>0</td>\n",
       "      <td>0</td>\n",
       "      <td>1</td>\n",
       "    </tr>\n",
       "    <tr>\n",
       "      <th>154</th>\n",
       "      <td>0</td>\n",
       "      <td>0</td>\n",
       "      <td>1</td>\n",
       "    </tr>\n",
       "    <tr>\n",
       "      <th>155</th>\n",
       "      <td>0</td>\n",
       "      <td>0</td>\n",
       "      <td>1</td>\n",
       "    </tr>\n",
       "    <tr>\n",
       "      <th>156</th>\n",
       "      <td>0</td>\n",
       "      <td>0</td>\n",
       "      <td>1</td>\n",
       "    </tr>\n",
       "    <tr>\n",
       "      <th>157</th>\n",
       "      <td>0</td>\n",
       "      <td>0</td>\n",
       "      <td>1</td>\n",
       "    </tr>\n",
       "    <tr>\n",
       "      <th>158</th>\n",
       "      <td>0</td>\n",
       "      <td>0</td>\n",
       "      <td>1</td>\n",
       "    </tr>\n",
       "    <tr>\n",
       "      <th>159</th>\n",
       "      <td>0</td>\n",
       "      <td>0</td>\n",
       "      <td>1</td>\n",
       "    </tr>\n",
       "    <tr>\n",
       "      <th>160</th>\n",
       "      <td>0</td>\n",
       "      <td>0</td>\n",
       "      <td>1</td>\n",
       "    </tr>\n",
       "    <tr>\n",
       "      <th>161</th>\n",
       "      <td>0</td>\n",
       "      <td>0</td>\n",
       "      <td>1</td>\n",
       "    </tr>\n",
       "    <tr>\n",
       "      <th>162</th>\n",
       "      <td>0</td>\n",
       "      <td>0</td>\n",
       "      <td>1</td>\n",
       "    </tr>\n",
       "    <tr>\n",
       "      <th>163</th>\n",
       "      <td>0</td>\n",
       "      <td>0</td>\n",
       "      <td>1</td>\n",
       "    </tr>\n",
       "    <tr>\n",
       "      <th>164</th>\n",
       "      <td>0</td>\n",
       "      <td>0</td>\n",
       "      <td>1</td>\n",
       "    </tr>\n",
       "    <tr>\n",
       "      <th>165</th>\n",
       "      <td>0</td>\n",
       "      <td>0</td>\n",
       "      <td>1</td>\n",
       "    </tr>\n",
       "    <tr>\n",
       "      <th>166</th>\n",
       "      <td>0</td>\n",
       "      <td>0</td>\n",
       "      <td>1</td>\n",
       "    </tr>\n",
       "    <tr>\n",
       "      <th>167</th>\n",
       "      <td>0</td>\n",
       "      <td>0</td>\n",
       "      <td>1</td>\n",
       "    </tr>\n",
       "    <tr>\n",
       "      <th>168</th>\n",
       "      <td>0</td>\n",
       "      <td>0</td>\n",
       "      <td>1</td>\n",
       "    </tr>\n",
       "    <tr>\n",
       "      <th>169</th>\n",
       "      <td>0</td>\n",
       "      <td>0</td>\n",
       "      <td>1</td>\n",
       "    </tr>\n",
       "    <tr>\n",
       "      <th>170</th>\n",
       "      <td>0</td>\n",
       "      <td>0</td>\n",
       "      <td>1</td>\n",
       "    </tr>\n",
       "    <tr>\n",
       "      <th>171</th>\n",
       "      <td>0</td>\n",
       "      <td>0</td>\n",
       "      <td>1</td>\n",
       "    </tr>\n",
       "    <tr>\n",
       "      <th>172</th>\n",
       "      <td>0</td>\n",
       "      <td>0</td>\n",
       "      <td>1</td>\n",
       "    </tr>\n",
       "    <tr>\n",
       "      <th>173</th>\n",
       "      <td>0</td>\n",
       "      <td>0</td>\n",
       "      <td>1</td>\n",
       "    </tr>\n",
       "    <tr>\n",
       "      <th>174</th>\n",
       "      <td>0</td>\n",
       "      <td>0</td>\n",
       "      <td>1</td>\n",
       "    </tr>\n",
       "    <tr>\n",
       "      <th>175</th>\n",
       "      <td>0</td>\n",
       "      <td>0</td>\n",
       "      <td>1</td>\n",
       "    </tr>\n",
       "    <tr>\n",
       "      <th>176</th>\n",
       "      <td>0</td>\n",
       "      <td>0</td>\n",
       "      <td>1</td>\n",
       "    </tr>\n",
       "    <tr>\n",
       "      <th>177</th>\n",
       "      <td>0</td>\n",
       "      <td>0</td>\n",
       "      <td>1</td>\n",
       "    </tr>\n",
       "  </tbody>\n",
       "</table>\n",
       "<p>178 rows × 3 columns</p>\n",
       "</div>"
      ],
      "text/plain": [
       "     target_0.0  target_1.0  target_2.0\n",
       "0             1           0           0\n",
       "1             1           0           0\n",
       "2             1           0           0\n",
       "3             1           0           0\n",
       "4             1           0           0\n",
       "5             1           0           0\n",
       "6             1           0           0\n",
       "7             1           0           0\n",
       "8             1           0           0\n",
       "9             1           0           0\n",
       "10            1           0           0\n",
       "11            1           0           0\n",
       "12            1           0           0\n",
       "13            1           0           0\n",
       "14            1           0           0\n",
       "15            1           0           0\n",
       "16            1           0           0\n",
       "17            1           0           0\n",
       "18            1           0           0\n",
       "19            1           0           0\n",
       "20            1           0           0\n",
       "21            1           0           0\n",
       "22            1           0           0\n",
       "23            1           0           0\n",
       "24            1           0           0\n",
       "25            1           0           0\n",
       "26            1           0           0\n",
       "27            1           0           0\n",
       "28            1           0           0\n",
       "29            1           0           0\n",
       "..          ...         ...         ...\n",
       "148           0           0           1\n",
       "149           0           0           1\n",
       "150           0           0           1\n",
       "151           0           0           1\n",
       "152           0           0           1\n",
       "153           0           0           1\n",
       "154           0           0           1\n",
       "155           0           0           1\n",
       "156           0           0           1\n",
       "157           0           0           1\n",
       "158           0           0           1\n",
       "159           0           0           1\n",
       "160           0           0           1\n",
       "161           0           0           1\n",
       "162           0           0           1\n",
       "163           0           0           1\n",
       "164           0           0           1\n",
       "165           0           0           1\n",
       "166           0           0           1\n",
       "167           0           0           1\n",
       "168           0           0           1\n",
       "169           0           0           1\n",
       "170           0           0           1\n",
       "171           0           0           1\n",
       "172           0           0           1\n",
       "173           0           0           1\n",
       "174           0           0           1\n",
       "175           0           0           1\n",
       "176           0           0           1\n",
       "177           0           0           1\n",
       "\n",
       "[178 rows x 3 columns]"
      ]
     },
     "execution_count": 11,
     "metadata": {},
     "output_type": "execute_result"
    }
   ],
   "source": [
    "wine = pd.get_dummies(wine, columns=['target'])\n",
    "wine.iloc[:, -3:]"
   ]
  },
  {
   "cell_type": "markdown",
   "metadata": {},
   "source": []
  },
  {
   "cell_type": "code",
   "execution_count": 29,
   "metadata": {
    "scrolled": true
   },
   "outputs": [],
   "source": [
    "test = wine.alcohol.copy()\n",
    "testX = preprocessing.KBinsDiscretizer(n_bins=[2], encode='ordinal', strategy='quantile').fit(test.values.reshape(-1, 1))"
   ]
  },
  {
   "cell_type": "code",
   "execution_count": 30,
   "metadata": {},
   "outputs": [
    {
     "data": {
      "text/plain": [
       "array([[1.],\n",
       "       [1.],\n",
       "       [1.],\n",
       "       [1.],\n",
       "       [1.],\n",
       "       [1.],\n",
       "       [1.],\n",
       "       [1.],\n",
       "       [1.],\n",
       "       [1.],\n",
       "       [1.],\n",
       "       [1.],\n",
       "       [1.],\n",
       "       [1.],\n",
       "       [1.],\n",
       "       [1.],\n",
       "       [1.],\n",
       "       [1.],\n",
       "       [1.],\n",
       "       [1.],\n",
       "       [1.],\n",
       "       [0.],\n",
       "       [1.],\n",
       "       [0.],\n",
       "       [1.],\n",
       "       [1.],\n",
       "       [1.],\n",
       "       [1.],\n",
       "       [1.],\n",
       "       [1.],\n",
       "       [1.],\n",
       "       [1.],\n",
       "       [1.],\n",
       "       [1.],\n",
       "       [1.],\n",
       "       [1.],\n",
       "       [1.],\n",
       "       [1.],\n",
       "       [1.],\n",
       "       [1.],\n",
       "       [1.],\n",
       "       [1.],\n",
       "       [1.],\n",
       "       [1.],\n",
       "       [1.],\n",
       "       [1.],\n",
       "       [1.],\n",
       "       [1.],\n",
       "       [1.],\n",
       "       [1.],\n",
       "       [1.],\n",
       "       [1.],\n",
       "       [1.],\n",
       "       [1.],\n",
       "       [1.],\n",
       "       [1.],\n",
       "       [1.],\n",
       "       [1.],\n",
       "       [1.],\n",
       "       [0.],\n",
       "       [0.],\n",
       "       [0.],\n",
       "       [1.],\n",
       "       [0.],\n",
       "       [0.],\n",
       "       [0.],\n",
       "       [1.],\n",
       "       [0.],\n",
       "       [1.],\n",
       "       [0.],\n",
       "       [0.],\n",
       "       [1.],\n",
       "       [1.],\n",
       "       [0.],\n",
       "       [0.],\n",
       "       [0.],\n",
       "       [0.],\n",
       "       [0.],\n",
       "       [0.],\n",
       "       [0.],\n",
       "       [0.],\n",
       "       [0.],\n",
       "       [0.],\n",
       "       [1.],\n",
       "       [0.],\n",
       "       [0.],\n",
       "       [0.],\n",
       "       [0.],\n",
       "       [0.],\n",
       "       [0.],\n",
       "       [0.],\n",
       "       [0.],\n",
       "       [0.],\n",
       "       [0.],\n",
       "       [0.],\n",
       "       [0.],\n",
       "       [0.],\n",
       "       [0.],\n",
       "       [0.],\n",
       "       [0.],\n",
       "       [0.],\n",
       "       [0.],\n",
       "       [0.],\n",
       "       [0.],\n",
       "       [0.],\n",
       "       [0.],\n",
       "       [0.],\n",
       "       [0.],\n",
       "       [0.],\n",
       "       [0.],\n",
       "       [0.],\n",
       "       [0.],\n",
       "       [0.],\n",
       "       [0.],\n",
       "       [0.],\n",
       "       [0.],\n",
       "       [0.],\n",
       "       [0.],\n",
       "       [0.],\n",
       "       [0.],\n",
       "       [0.],\n",
       "       [0.],\n",
       "       [0.],\n",
       "       [1.],\n",
       "       [0.],\n",
       "       [0.],\n",
       "       [0.],\n",
       "       [0.],\n",
       "       [0.],\n",
       "       [0.],\n",
       "       [0.],\n",
       "       [0.],\n",
       "       [0.],\n",
       "       [0.],\n",
       "       [0.],\n",
       "       [0.],\n",
       "       [0.],\n",
       "       [0.],\n",
       "       [1.],\n",
       "       [0.],\n",
       "       [0.],\n",
       "       [1.],\n",
       "       [1.],\n",
       "       [1.],\n",
       "       [0.],\n",
       "       [1.],\n",
       "       [1.],\n",
       "       [0.],\n",
       "       [1.],\n",
       "       [1.],\n",
       "       [1.],\n",
       "       [0.],\n",
       "       [1.],\n",
       "       [1.],\n",
       "       [0.],\n",
       "       [1.],\n",
       "       [1.],\n",
       "       [0.],\n",
       "       [1.],\n",
       "       [1.],\n",
       "       [0.],\n",
       "       [1.],\n",
       "       [0.],\n",
       "       [0.],\n",
       "       [1.],\n",
       "       [1.],\n",
       "       [1.],\n",
       "       [0.],\n",
       "       [1.],\n",
       "       [1.],\n",
       "       [0.],\n",
       "       [0.],\n",
       "       [1.],\n",
       "       [1.],\n",
       "       [1.],\n",
       "       [1.],\n",
       "       [1.],\n",
       "       [1.]])"
      ]
     },
     "execution_count": 30,
     "metadata": {},
     "output_type": "execute_result"
    }
   ],
   "source": [
    "testX.transform(test.values.reshape(-1, 1))"
   ]
  },
  {
   "cell_type": "code",
   "execution_count": 31,
   "metadata": {},
   "outputs": [
    {
     "data": {
      "text/plain": [
       "{'encode': 'ordinal', 'n_bins': [2], 'strategy': 'quantile'}"
      ]
     },
     "execution_count": 31,
     "metadata": {},
     "output_type": "execute_result"
    }
   ],
   "source": [
    "testX.get_params()"
   ]
  },
  {
   "cell_type": "markdown",
   "metadata": {},
   "source": [
    ">### Para a conversão dos atributos, utilizou-se a coluna target, transformando as classes do tipo 0, 1 e 2 em variáveis do tipo dummies, sendo 0 representado por (1, 0, 0); 1 representado por (0, 1, 0) e 2 representado por (0, 0, 1). Além disso, utilizou-se a biblioteca preprocessing para codificar a variável alcohol por meio de uma discretização de valores. Para isso, foi utilizada a função KBinsDiscretizer, com 2 bins e com codificação do tipo ordinal e estratégia quantil. Isso significa que os valores da variável alcohol serão divididos em 2 bins sendo o intervalo de valores em cada bin definido pela quantidade de valores nessa variável, ou seja, se existirem 10 valores 14 e 10 valores 12, então o primeiro bin irá de (-inf, 12], [12, inf). Além disso, a codificação ordinal faz com que o retorno seja do tipo inteiro."
   ]
  },
  {
   "cell_type": "markdown",
   "metadata": {},
   "source": [
    ">## Atividade 3 - Normalização dos dados"
   ]
  },
  {
   "cell_type": "code",
   "execution_count": 4,
   "metadata": {},
   "outputs": [
    {
     "data": {
      "text/html": [
       "<div>\n",
       "<style scoped>\n",
       "    .dataframe tbody tr th:only-of-type {\n",
       "        vertical-align: middle;\n",
       "    }\n",
       "\n",
       "    .dataframe tbody tr th {\n",
       "        vertical-align: top;\n",
       "    }\n",
       "\n",
       "    .dataframe thead th {\n",
       "        text-align: right;\n",
       "    }\n",
       "</style>\n",
       "<table border=\"1\" class=\"dataframe\">\n",
       "  <thead>\n",
       "    <tr style=\"text-align: right;\">\n",
       "      <th></th>\n",
       "      <th>malic_acid</th>\n",
       "      <th>proline</th>\n",
       "    </tr>\n",
       "  </thead>\n",
       "  <tbody>\n",
       "    <tr>\n",
       "      <th>0</th>\n",
       "      <td>1.71</td>\n",
       "      <td>1065.0</td>\n",
       "    </tr>\n",
       "    <tr>\n",
       "      <th>1</th>\n",
       "      <td>1.78</td>\n",
       "      <td>1050.0</td>\n",
       "    </tr>\n",
       "    <tr>\n",
       "      <th>2</th>\n",
       "      <td>2.36</td>\n",
       "      <td>1185.0</td>\n",
       "    </tr>\n",
       "    <tr>\n",
       "      <th>3</th>\n",
       "      <td>1.95</td>\n",
       "      <td>1480.0</td>\n",
       "    </tr>\n",
       "    <tr>\n",
       "      <th>4</th>\n",
       "      <td>2.59</td>\n",
       "      <td>735.0</td>\n",
       "    </tr>\n",
       "  </tbody>\n",
       "</table>\n",
       "</div>"
      ],
      "text/plain": [
       "   malic_acid  proline\n",
       "0        1.71   1065.0\n",
       "1        1.78   1050.0\n",
       "2        2.36   1185.0\n",
       "3        1.95   1480.0\n",
       "4        2.59    735.0"
      ]
     },
     "execution_count": 4,
     "metadata": {},
     "output_type": "execute_result"
    }
   ],
   "source": [
    "df_normalize = wine.iloc[:, [1, 12]]\n",
    "df_normalize.head()"
   ]
  },
  {
   "cell_type": "markdown",
   "metadata": {},
   "source": [
    ">### Primeiramente, iremos realizar a abordagem de normalização 0-1."
   ]
  },
  {
   "cell_type": "code",
   "execution_count": 5,
   "metadata": {},
   "outputs": [
    {
     "data": {
      "text/plain": [
       "array([[0.1916996 , 0.56134094],\n",
       "       [0.2055336 , 0.55064194],\n",
       "       [0.3201581 , 0.64693295],\n",
       "       [0.23913043, 0.85734665],\n",
       "       [0.36561265, 0.32596291],\n",
       "       [0.20158103, 0.83594864],\n",
       "       [0.22332016, 0.72182596],\n",
       "       [0.27865613, 0.7253923 ],\n",
       "       [0.17786561, 0.54707561],\n",
       "       [0.12055336, 0.54707561],\n",
       "       [0.28063241, 0.87874465],\n",
       "       [0.14624506, 0.7146933 ],\n",
       "       [0.19565217, 0.74322397],\n",
       "       [0.19565217, 0.62196862],\n",
       "       [0.22332016, 0.90513552],\n",
       "       [0.21146245, 0.7360913 ],\n",
       "       [0.23320158, 0.7146933 ],\n",
       "       [0.16403162, 0.60770328],\n",
       "       [0.16798419, 1.        ],\n",
       "       [0.46640316, 0.40442225],\n",
       "       [0.17588933, 0.35805991],\n",
       "       [0.60474308, 0.35092725],\n",
       "       [0.22134387, 0.53994294],\n",
       "       [0.16996047, 0.5256776 ],\n",
       "       [0.21146245, 0.40442225],\n",
       "       [0.25889328, 0.39372325],\n",
       "       [0.20355731, 0.65406562],\n",
       "       [0.19367589, 0.71825963],\n",
       "       [0.22924901, 0.45435093],\n",
       "       [0.18577075, 0.53994294],\n",
       "       [0.15019763, 0.71825963],\n",
       "       [0.18181818, 0.88231098],\n",
       "       [0.21541502, 0.50784593],\n",
       "       [0.15612648, 0.68259629],\n",
       "       [0.20948617, 0.58273894],\n",
       "       [0.21146245, 0.45791726],\n",
       "       [0.17786561, 0.42938659],\n",
       "       [0.1798419 , 0.58987161],\n",
       "       [0.15019763, 0.52924394],\n",
       "       [0.64229249, 0.34379458],\n",
       "       [0.1916996 , 0.36875892],\n",
       "       [0.61264822, 0.53994294],\n",
       "       [0.22727273, 0.58273894],\n",
       "       [0.64031621, 0.28673324],\n",
       "       [0.20355731, 0.43295292],\n",
       "       [0.65217391, 0.57203994],\n",
       "       [0.56324111, 0.56134094],\n",
       "       [0.18577075, 0.5042796 ],\n",
       "       [0.25296443, 0.55777461],\n",
       "       [0.19565217, 0.70042796],\n",
       "       [0.19565217, 0.62196862],\n",
       "       [0.1798419 , 0.70399429],\n",
       "       [0.19960474, 0.65049929],\n",
       "       [0.22924901, 0.78245364],\n",
       "       [0.18379447, 0.55777461],\n",
       "       [0.19565217, 0.60057061],\n",
       "       [0.18972332, 0.4935806 ],\n",
       "       [0.243083  , 0.70756063],\n",
       "       [0.13636364, 0.71825963],\n",
       "       [0.03952569, 0.17261056],\n",
       "       [0.07114625, 0.28673324],\n",
       "       [0.12252964, 0.12268188],\n",
       "       [0.10079051, 0.2510699 ],\n",
       "       [0.0770751 , 0.10128388],\n",
       "       [0.14031621, 0.05492154],\n",
       "       [0.09288538, 0.2853067 ],\n",
       "       [0.05335968, 0.15977175],\n",
       "       [0.08498024, 0.16547789],\n",
       "       [0.03952569, 0.33666191],\n",
       "       [0.08893281, 0.31383738],\n",
       "       [0.17193676, 0.42225392],\n",
       "       [0.15217391, 0.09415121],\n",
       "       [0.18181818, 0.13837375],\n",
       "       [0.18379447, 0.5042796 ],\n",
       "       [0.06916996, 0.43366619],\n",
       "       [0.22529644, 0.10699001],\n",
       "       [0.03162055, 0.08131241],\n",
       "       [0.42490119, 0.15834522],\n",
       "       [0.04940711, 0.33666191],\n",
       "       [0.61857708, 0.13195435],\n",
       "       [0.03557312, 0.        ],\n",
       "       [0.21146245, 0.31098431],\n",
       "       [0.0770751 , 0.2510699 ],\n",
       "       [0.61660079, 0.16904422],\n",
       "       [0.02964427, 0.17261056],\n",
       "       [0.04743083, 0.12268188],\n",
       "       [0.17193676, 0.15477889],\n",
       "       [0.18379447, 0.20256776],\n",
       "       [0.26086957, 0.28673324],\n",
       "       [0.11660079, 0.24750357],\n",
       "       [0.21541502, 0.14407989],\n",
       "       [0.15217391, 0.12268188],\n",
       "       [0.15612648, 0.15477889],\n",
       "       [0.41304348, 0.0085592 ],\n",
       "       [0.24703557, 0.04778887],\n",
       "       [0.1541502 , 0.4700428 ],\n",
       "       [0.27272727, 0.24750357],\n",
       "       [0.13241107, 0.10699001],\n",
       "       [0.06521739, 0.2724679 ],\n",
       "       [0.48023715, 0.09129815],\n",
       "       [0.26482213, 0.30813124],\n",
       "       [0.11857708, 0.20256776],\n",
       "       [0.33794466, 0.11412268],\n",
       "       [0.19367589, 0.09771755],\n",
       "       [0.19565217, 0.2810271 ],\n",
       "       [0.35770751, 0.02639087],\n",
       "       [0.19565217, 0.16547789],\n",
       "       [0.19960474, 0.14978602],\n",
       "       [0.10869565, 0.02425107],\n",
       "       [0.12055336, 0.28673324],\n",
       "       [0.59288538, 0.20256776],\n",
       "       [0.33399209, 0.03352354],\n",
       "       [0.38339921, 0.23466476],\n",
       "       [0.        , 0.11126961],\n",
       "       [0.1284585 , 0.07631954],\n",
       "       [0.15217391, 0.09201141],\n",
       "       [0.14426877, 0.15477889],\n",
       "       [0.17193676, 0.04778887],\n",
       "       [0.53162055, 0.06704708],\n",
       "       [0.53162055, 0.20399429],\n",
       "       [0.32806324, 0.24750357],\n",
       "       [0.25889328, 0.13338088],\n",
       "       [0.72924901, 0.06205421],\n",
       "       [1.        , 0.07275321],\n",
       "       [0.7055336 , 0.07275321],\n",
       "       [0.28063241, 0.07132668],\n",
       "       [0.15612648, 0.05278174],\n",
       "       [0.27470356, 0.13409415],\n",
       "       [0.17588933, 0.04564907],\n",
       "       [0.70355731, 0.21540656],\n",
       "       [0.12055336, 0.2510699 ],\n",
       "       [0.44466403, 0.17974322],\n",
       "       [0.31027668, 0.20114123],\n",
       "       [0.55533597, 0.2296719 ],\n",
       "       [0.09881423, 0.26533524],\n",
       "       [0.33992095, 0.29743224],\n",
       "       [0.78656126, 0.31526391],\n",
       "       [0.94268775, 0.16904422],\n",
       "       [0.56324111, 0.21540656],\n",
       "       [0.43873518, 0.22253923],\n",
       "       [0.40909091, 0.2296719 ],\n",
       "       [0.35968379, 0.35805991],\n",
       "       [0.48023715, 0.17261056],\n",
       "       [0.83201581, 0.19400856],\n",
       "       [0.62055336, 0.41155492],\n",
       "       [0.55928854, 0.39372325],\n",
       "       [0.84980237, 0.09771755],\n",
       "       [0.76482213, 0.24750357],\n",
       "       [0.49407115, 0.26533524],\n",
       "       [0.62450593, 0.19400856],\n",
       "       [0.47035573, 0.15834522],\n",
       "       [0.38142292, 0.14407989],\n",
       "       [0.22924901, 0.10485021],\n",
       "       [0.50592885, 0.2831669 ],\n",
       "       [0.10869565, 0.25820257],\n",
       "       [0.87944664, 0.31883024],\n",
       "       [0.66798419, 0.14407989],\n",
       "       [0.45256917, 0.42938659],\n",
       "       [0.18577075, 0.2724679 ],\n",
       "       [0.18379447, 0.24393723],\n",
       "       [0.61067194, 0.17261056],\n",
       "       [0.49802372, 0.28673324],\n",
       "       [0.5       , 0.20827389],\n",
       "       [0.53557312, 0.2831669 ],\n",
       "       [0.39920949, 0.2403709 ],\n",
       "       [0.71541502, 0.17261056],\n",
       "       [0.58498024, 0.29743224],\n",
       "       [0.51976285, 0.29029957],\n",
       "       [0.36363636, 0.33666191],\n",
       "       [0.76284585, 0.2510699 ],\n",
       "       [0.45256917, 0.16547789],\n",
       "       [0.32608696, 0.13694722],\n",
       "       [0.34980237, 0.2724679 ],\n",
       "       [0.97035573, 0.32952924],\n",
       "       [0.62648221, 0.33666191],\n",
       "       [0.69960474, 0.39728959],\n",
       "       [0.36561265, 0.40085592],\n",
       "       [0.66403162, 0.20114123]])"
      ]
     },
     "execution_count": 5,
     "metadata": {},
     "output_type": "execute_result"
    }
   ],
   "source": [
    "norm_z_o = preprocessing.MinMaxScaler().fit_transform(df_normalize)\n",
    "norm_z_o"
   ]
  },
  {
   "cell_type": "markdown",
   "metadata": {},
   "source": [
    ">### Agora, vamos normalizar utilizando média 0 e variância 1"
   ]
  },
  {
   "cell_type": "code",
   "execution_count": 6,
   "metadata": {},
   "outputs": [
    {
     "data": {
      "text/plain": [
       "array([[-0.5622498 ,  1.01300893],\n",
       "       [-0.49941338,  0.96524152],\n",
       "       [ 0.02123125,  1.39514818],\n",
       "       [-0.34681064,  2.33457383],\n",
       "       [ 0.22769377, -0.03787401],\n",
       "       [-0.51736664,  2.23903902],\n",
       "       [-0.4186237 ,  1.72952002],\n",
       "       [-0.16727801,  1.74544249],\n",
       "       [-0.62508622,  0.94931905],\n",
       "       [-0.88540853,  0.94931905],\n",
       "       [-0.15830138,  2.43010864],\n",
       "       [-0.76871232,  1.69767508],\n",
       "       [-0.54429654,  1.82505483],\n",
       "       [-0.54429654,  1.28369089],\n",
       "       [-0.4186237 ,  2.54793491],\n",
       "       [-0.47248348,  1.79320989],\n",
       "       [-0.37374054,  1.69767508],\n",
       "       [-0.68792264,  1.22000102],\n",
       "       [-0.66996938,  2.97147258],\n",
       "       [ 0.68550197,  0.3124203 ],\n",
       "       [-0.63406285,  0.10542821],\n",
       "       [ 1.31386618,  0.07358327],\n",
       "       [-0.42760033,  0.91747411],\n",
       "       [-0.66099274,  0.85378424],\n",
       "       [-0.47248348,  0.3124203 ],\n",
       "       [-0.25704433,  0.2646529 ],\n",
       "       [-0.50839001,  1.42699311],\n",
       "       [-0.55327317,  1.71359755],\n",
       "       [-0.3916938 ,  0.53533487],\n",
       "       [-0.58917969,  0.91747411],\n",
       "       [-0.75075906,  1.71359755],\n",
       "       [-0.60713296,  2.44603111],\n",
       "       [-0.45453022,  0.7741719 ],\n",
       "       [-0.72382916,  1.55437286],\n",
       "       [-0.48146012,  1.10854374],\n",
       "       [-0.47248348,  0.55125733],\n",
       "       [-0.62508622,  0.42387759],\n",
       "       [-0.61610959,  1.14038868],\n",
       "       [-0.75075906,  0.86970671],\n",
       "       [ 1.48442217,  0.04173834],\n",
       "       [-0.5622498 ,  0.15319562],\n",
       "       [ 1.3497727 ,  0.91747411],\n",
       "       [-0.40067043,  1.10854374],\n",
       "       [ 1.47544554, -0.21302116],\n",
       "       [-0.50839001,  0.43980005],\n",
       "       [ 1.52930533,  1.06077633],\n",
       "       [ 1.12535692,  1.01300893],\n",
       "       [-0.58917969,  0.75824943],\n",
       "       [-0.28397422,  0.99708646],\n",
       "       [-0.54429654,  1.63398521],\n",
       "       [-0.54429654,  1.28369089],\n",
       "       [-0.61610959,  1.64990767],\n",
       "       [-0.52634327,  1.41107064],\n",
       "       [-0.3916938 ,  2.00020199],\n",
       "       [-0.59815632,  0.99708646],\n",
       "       [-0.54429654,  1.18815608],\n",
       "       [-0.57122643,  0.71048202],\n",
       "       [-0.32885738,  1.66583014],\n",
       "       [-0.81359548,  1.71359755],\n",
       "       [-1.25345042, -0.72254016],\n",
       "       [-1.10982432, -0.21302116],\n",
       "       [-0.8764319 , -0.94545472],\n",
       "       [-0.97517485, -0.37224585],\n",
       "       [-1.08289442, -1.04098953],\n",
       "       [-0.79564222, -1.24798163],\n",
       "       [-1.01108137, -0.21939015],\n",
       "       [-1.190614  , -0.77986105],\n",
       "       [-1.0469879 , -0.7543851 ],\n",
       "       [-1.25345042,  0.0098934 ],\n",
       "       [-1.02903463, -0.0920104 ],\n",
       "       [-0.65201611,  0.39203265],\n",
       "       [-0.74178243, -1.07283447],\n",
       "       [-0.60713296, -0.87539586],\n",
       "       [-0.59815632,  0.75824943],\n",
       "       [-1.11880095,  0.44298455],\n",
       "       [-0.40964706, -1.01551358],\n",
       "       [-1.28935695, -1.13015536],\n",
       "       [ 0.49699271, -0.78623004],\n",
       "       [-1.20856726,  0.0098934 ],\n",
       "       [ 1.3767026 , -0.9040563 ],\n",
       "       [-1.27140368, -1.49318765],\n",
       "       [-0.47248348, -0.10474838],\n",
       "       [-1.08289442, -0.37224585],\n",
       "       [ 1.36772596, -0.73846263],\n",
       "       [-1.29833358, -0.72254016],\n",
       "       [-1.21754389, -0.94545472],\n",
       "       [-0.65201611, -0.8021525 ],\n",
       "       [-0.59815632, -0.58879142],\n",
       "       [-0.2480677 , -0.21302116],\n",
       "       [-0.90336179, -0.38816832],\n",
       "       [-0.45453022, -0.84991991],\n",
       "       [-0.74178243, -0.94545472],\n",
       "       [-0.72382916, -0.8021525 ],\n",
       "       [ 0.44313292, -1.45497372],\n",
       "       [-0.31090412, -1.27982657],\n",
       "       [-0.7328058 ,  0.60539373],\n",
       "       [-0.19420791, -0.38816832],\n",
       "       [-0.83154874, -1.01551358],\n",
       "       [-1.13675421, -0.27671104],\n",
       "       [ 0.74833839, -1.08557245],\n",
       "       [-0.23011443, -0.11748635],\n",
       "       [-0.89438516, -0.58879142],\n",
       "       [ 0.10202093, -0.98366865],\n",
       "       [-0.55327317, -1.056912  ],\n",
       "       [-0.54429654, -0.23849711],\n",
       "       [ 0.19178724, -1.37536138],\n",
       "       [-0.54429654, -0.7543851 ],\n",
       "       [-0.52634327, -0.82444396],\n",
       "       [-0.93926832, -1.38491486],\n",
       "       [-0.88540853, -0.21302116],\n",
       "       [ 1.26000639, -0.58879142],\n",
       "       [ 0.08406767, -1.34351644],\n",
       "       [ 0.30848345, -0.44548921],\n",
       "       [-1.43298305, -0.99640662],\n",
       "       [-0.849502  , -1.15244682],\n",
       "       [-0.74178243, -1.08238795],\n",
       "       [-0.77768895, -0.8021525 ],\n",
       "       [-0.65201611, -1.27982657],\n",
       "       [ 0.98173081, -1.19384523],\n",
       "       [ 0.98173081, -0.58242244],\n",
       "       [ 0.05713777, -0.38816832],\n",
       "       [-0.25704433, -0.89768732],\n",
       "       [ 1.87939396, -1.21613669],\n",
       "       [ 3.10919247, -1.16836928],\n",
       "       [ 1.77167438, -1.16836928],\n",
       "       [-0.15830138, -1.17473827],\n",
       "       [-0.72382916, -1.25753511],\n",
       "       [-0.18523128, -0.89450282],\n",
       "       [-0.63406285, -1.28938005],\n",
       "       [ 1.76269775, -0.53147054],\n",
       "       [-0.88540853, -0.37224585],\n",
       "       [ 0.58675903, -0.69069522],\n",
       "       [-0.02365191, -0.59516041],\n",
       "       [ 1.08945039, -0.46778066],\n",
       "       [-0.98415148, -0.30855597],\n",
       "       [ 0.11099756, -0.16525376],\n",
       "       [ 2.13971627, -0.08564141],\n",
       "       [ 2.84887015, -0.73846263],\n",
       "       [ 1.12535692, -0.53147054],\n",
       "       [ 0.55982913, -0.4996256 ],\n",
       "       [ 0.42517966, -0.46778066],\n",
       "       [ 0.20076388,  0.10542821],\n",
       "       [ 0.74833839, -0.72254016],\n",
       "       [ 2.34617879, -0.62700535],\n",
       "       [ 1.38567923,  0.34426524],\n",
       "       [ 1.10740365,  0.2646529 ],\n",
       "       [ 2.42696848, -1.056912  ],\n",
       "       [ 2.04097332, -0.38816832],\n",
       "       [ 0.81117481, -0.30855597],\n",
       "       [ 1.40363249, -0.62700535],\n",
       "       [ 0.70345524, -0.78623004],\n",
       "       [ 0.29950682, -0.84991991],\n",
       "       [-0.3916938 , -1.02506707],\n",
       "       [ 0.8650346 , -0.22894363],\n",
       "       [-0.93926832, -0.34040091],\n",
       "       [ 2.56161795, -0.06971894],\n",
       "       [ 1.60111838, -0.84991991],\n",
       "       [ 0.62266555,  0.42387759],\n",
       "       [-0.58917969, -0.27671104],\n",
       "       [-0.59815632, -0.40409079],\n",
       "       [ 1.34079607, -0.72254016],\n",
       "       [ 0.82912808, -0.21302116],\n",
       "       [ 0.83810471, -0.56331547],\n",
       "       [ 0.99968408, -0.22894363],\n",
       "       [ 0.3802965 , -0.42001326],\n",
       "       [ 1.81655754, -0.72254016],\n",
       "       [ 1.22409986, -0.16525376],\n",
       "       [ 0.92787102, -0.19709869],\n",
       "       [ 0.21871714,  0.0098934 ],\n",
       "       [ 2.03199669, -0.37224585],\n",
       "       [ 0.62266555, -0.7543851 ],\n",
       "       [ 0.04816114, -0.88176485],\n",
       "       [ 0.15588072, -0.27671104],\n",
       "       [ 2.974543  , -0.02195154],\n",
       "       [ 1.41260912,  0.0098934 ],\n",
       "       [ 1.74474449,  0.28057537],\n",
       "       [ 0.22769377,  0.29649784],\n",
       "       [ 1.58316512, -0.59516041]])"
      ]
     },
     "execution_count": 6,
     "metadata": {},
     "output_type": "execute_result"
    }
   ],
   "source": [
    "norm_m0_v1 = stats.zscore(df_normalize, axis=0, ddof=0)\n",
    "norm_m0_v1"
   ]
  },
  {
   "cell_type": "markdown",
   "metadata": {},
   "source": [
    ">### Agora, vamos plotar os boxplots e histograma da variável não normalizada, normalizada por intervalo de 0 a 1 e por média 0 e variância 1, respectivamente."
   ]
  },
  {
   "cell_type": "code",
   "execution_count": 54,
   "metadata": {},
   "outputs": [
    {
     "data": {
      "text/plain": [
       "<matplotlib.axes._subplots.AxesSubplot at 0x7f6c4c104d30>"
      ]
     },
     "execution_count": 54,
     "metadata": {},
     "output_type": "execute_result"
    },
    {
     "data": {
      "image/png": "[encoded data removed]",
      "text/plain": [
       "<Figure size 720x720 with 1 Axes>"
      ]
     },
     "metadata": {},
     "output_type": "display_data"
    }
   ],
   "source": [
    "wine.boxplot(column=['malic_acid', 'proline'], rot=45, figsize=(10, 10))"
   ]
  },
  {
   "cell_type": "code",
   "execution_count": 68,
   "metadata": {},
   "outputs": [
    {
     "data": {
      "text/plain": [
       "<Figure size 432x288 with 0 Axes>"
      ]
     },
     "execution_count": 68,
     "metadata": {},
     "output_type": "execute_result"
    },
    {
     "data": {
      "image/png": "[encoded data removed]",
      "text/plain": [
       "<Figure size 432x288 with 1 Axes>"
      ]
     },
     "metadata": {},
     "output_type": "display_data"
    },
    {
     "data": {
      "text/plain": [
       "<Figure size 432x288 with 0 Axes>"
      ]
     },
     "metadata": {},
     "output_type": "display_data"
    }
   ],
   "source": [
    "plt.boxplot(norm_z_o)\n",
    "plt.figure()"
   ]
  },
  {
   "cell_type": "code",
   "execution_count": 69,
   "metadata": {},
   "outputs": [
    {
     "data": {
      "text/plain": [
       "<Figure size 432x288 with 0 Axes>"
      ]
     },
     "execution_count": 69,
     "metadata": {},
     "output_type": "execute_result"
    },
    {
     "data": {
      "image/png": "[encoded data removed]",
      "text/plain": [
       "<Figure size 432x288 with 1 Axes>"
      ]
     },
     "metadata": {},
     "output_type": "display_data"
    },
    {
     "data": {
      "text/plain": [
       "<Figure size 432x288 with 0 Axes>"
      ]
     },
     "metadata": {},
     "output_type": "display_data"
    }
   ],
   "source": [
    "plt.boxplot(norm_m0_v1)\n",
    "plt.figure()"
   ]
  },
  {
   "cell_type": "code",
   "execution_count": 3,
   "metadata": {},
   "outputs": [
    {
     "data": {
      "image/png": "[encoded data removed]",
      "text/plain": [
       "<Figure size 360x360 with 1 Axes>"
      ]
     },
     "metadata": {},
     "output_type": "display_data"
    }
   ],
   "source": [
    "wine = datasets.load_wine()\n",
    "wine = pd.DataFrame(data= np.c_[wine['data'], wine['target']],\n",
    "                     columns= wine['feature_names'] + ['target'])\n",
    "\n",
    "columns = wine.columns.tolist()\n",
    "plt.figure(figsize=(5, 5))\n",
    "col = 4\n",
    "plt.title(columns[col-3])\n",
    "for c in wine.target.unique():\n",
    "    wine.loc[wine.target == c, columns[col-3]].plot.hist(bins=6, alpha=0.3)\n",
    "    \n",
    "plt.legend(wine.target.unique())\n",
    "plt.tight_layout()\n",
    "plt.show()"
   ]
  },
  {
   "cell_type": "code",
   "execution_count": 27,
   "metadata": {},
   "outputs": [
    {
     "data": {
      "image/png": "[encoded data removed]",
      "text/plain": [
       "<Figure size 360x360 with 1 Axes>"
      ]
     },
     "metadata": {},
     "output_type": "display_data"
    }
   ],
   "source": [
    "plt.figure(figsize=(5, 5))\n",
    "col = 1\n",
    "plt.title(columns[col-3])\n",
    "for c in wine.target.unique():\n",
    "    wine.loc[wine.target == c, columns[col-3]].plot.hist(bins=6, alpha=0.3)\n",
    "    \n",
    "plt.legend(wine.target.unique())\n",
    "plt.tight_layout()\n",
    "plt.show()"
   ]
  },
  {
   "cell_type": "code",
   "execution_count": 79,
   "metadata": {},
   "outputs": [
    {
     "data": {
      "text/plain": [
       "(array([18., 59., 33., 16., 13., 12., 14.,  7.,  3.,  3.]),\n",
       " array([0. , 0.1, 0.2, 0.3, 0.4, 0.5, 0.6, 0.7, 0.8, 0.9, 1. ]),\n",
       " <a list of 10 Patch objects>)"
      ]
     },
     "execution_count": 79,
     "metadata": {},
     "output_type": "execute_result"
    },
    {
     "data": {
      "image/png": "[encoded data removed]",
      "text/plain": [
       "<Figure size 432x288 with 1 Axes>"
      ]
     },
     "metadata": {},
     "output_type": "display_data"
    }
   ],
   "source": [
    "plt.hist(norm_z_o[:, 0])"
   ]
  },
  {
   "cell_type": "code",
   "execution_count": 80,
   "metadata": {},
   "outputs": [
    {
     "data": {
      "text/plain": [
       "(array([22., 37., 41., 19., 13., 19.,  8., 13.,  4.,  2.]),\n",
       " array([0. , 0.1, 0.2, 0.3, 0.4, 0.5, 0.6, 0.7, 0.8, 0.9, 1. ]),\n",
       " <a list of 10 Patch objects>)"
      ]
     },
     "execution_count": 80,
     "metadata": {},
     "output_type": "execute_result"
    },
    {
     "data": {
      "image/png": "[encoded data removed]",
      "text/plain": [
       "<Figure size 432x288 with 1 Axes>"
      ]
     },
     "metadata": {},
     "output_type": "display_data"
    }
   ],
   "source": [
    "plt.hist(norm_z_o[:, 1])"
   ]
  },
  {
   "cell_type": "code",
   "execution_count": 81,
   "metadata": {},
   "outputs": [
    {
     "data": {
      "text/plain": [
       "(array([18., 59., 33., 16., 13., 12., 14.,  7.,  3.,  3.]),\n",
       " array([-1.43298305, -0.9787655 , -0.52454795, -0.07033039,  0.38388716,\n",
       "         0.83810471,  1.29232226,  1.74653981,  2.20075736,  2.65497492,\n",
       "         3.10919247]),\n",
       " <a list of 10 Patch objects>)"
      ]
     },
     "execution_count": 81,
     "metadata": {},
     "output_type": "execute_result"
    },
    {
     "data": {
      "image/png": "[encoded data removed]",
      "text/plain": [
       "<Figure size 432x288 with 1 Axes>"
      ]
     },
     "metadata": {},
     "output_type": "display_data"
    }
   ],
   "source": [
    "plt.hist(norm_m0_v1[:, 0])"
   ]
  },
  {
   "cell_type": "code",
   "execution_count": 82,
   "metadata": {},
   "outputs": [
    {
     "data": {
      "text/plain": [
       "(array([22., 37., 41., 19., 13., 19.,  8., 13.,  4.,  2.]),\n",
       " array([-1.49318765, -1.04672162, -0.6002556 , -0.15378958,  0.29267644,\n",
       "         0.73914247,  1.18560849,  1.63207451,  2.07854053,  2.52500655,\n",
       "         2.97147258]),\n",
       " <a list of 10 Patch objects>)"
      ]
     },
     "execution_count": 82,
     "metadata": {},
     "output_type": "execute_result"
    },
    {
     "data": {
      "image/png": "[encoded data removed]",
      "text/plain": [
       "<Figure size 432x288 with 1 Axes>"
      ]
     },
     "metadata": {},
     "output_type": "display_data"
    }
   ],
   "source": [
    "plt.hist(norm_m0_v1[:, 1])"
   ]
  },
  {
   "cell_type": "code",
   "execution_count": 28,
   "metadata": {},
   "outputs": [
    {
     "data": {
      "image/png": "[encoded data removed]",
      "text/plain": [
       "<Figure size 771.875x720 with 6 Axes>"
      ]
     },
     "metadata": {},
     "output_type": "display_data"
    }
   ],
   "source": [
    "sns.pairplot(data=wine, vars=['malic_acid', 'proline'], hue='target', height=5)\n",
    "plt.show()"
   ]
  },
  {
   "cell_type": "code",
   "execution_count": 32,
   "metadata": {},
   "outputs": [
    {
     "data": {
      "text/plain": [
       "<seaborn.axisgrid.PairGrid at 0x7fa8c0d70f60>"
      ]
     },
     "execution_count": 32,
     "metadata": {},
     "output_type": "execute_result"
    },
    {
     "data": {
      "image/png": "[encoded data removed]",
      "text/plain": [
       "<Figure size 771.875x720 with 6 Axes>"
      ]
     },
     "metadata": {},
     "output_type": "display_data"
    }
   ],
   "source": [
    "wine.malic_acid = norm_z_o[:,0]\n",
    "wine.proline = norm_z_o[:,1]\n",
    "sns.pairplot(data=wine, vars=['malic_acid', 'proline'], hue='target', height=5)"
   ]
  },
  {
   "cell_type": "code",
   "execution_count": 33,
   "metadata": {},
   "outputs": [
    {
     "data": {
      "text/plain": [
       "<seaborn.axisgrid.PairGrid at 0x7fa8c14447b8>"
      ]
     },
     "execution_count": 33,
     "metadata": {},
     "output_type": "execute_result"
    },
    {
     "data": {
      "image/png": "[encoded data removed]",
      "text/plain": [
       "<Figure size 771.875x720 with 6 Axes>"
      ]
     },
     "metadata": {},
     "output_type": "display_data"
    }
   ],
   "source": [
    "wine.malic_acid = norm_m0_v1[:,0]\n",
    "wine.proline = norm_m0_v1[:,1]\n",
    "sns.pairplot(data=wine, vars=['malic_acid', 'proline'], hue='target', height=5)"
   ]
  },
  {
   "cell_type": "code",
   "execution_count": 38,
   "metadata": {},
   "outputs": [
    {
     "data": {
      "image/png": "[encoded data removed]",
      "text/plain": [
       "<Figure size 432x288 with 2 Axes>"
      ]
     },
     "metadata": {},
     "output_type": "display_data"
    }
   ],
   "source": [
    "wine = datasets.load_wine()\n",
    "wine = pd.DataFrame(data= np.c_[wine['data'], wine['target']],\n",
    "                     columns= wine['feature_names'] + ['target'])\n",
    "\n",
    "cov = wine.iloc[:, [1, 12]].cov()\n",
    "\n",
    "sns.heatmap(cov)\n",
    "plt.show()"
   ]
  },
  {
   "cell_type": "code",
   "execution_count": 36,
   "metadata": {},
   "outputs": [
    {
     "data": {
      "image/png": "[encoded data removed]",
      "text/plain": [
       "<Figure size 432x288 with 2 Axes>"
      ]
     },
     "metadata": {},
     "output_type": "display_data"
    }
   ],
   "source": [
    "wine.malic_acid = norm_z_o[:,0]\n",
    "wine.proline = norm_z_o[:,1]\n",
    "cov = wine.iloc[:, [1, 12]].cov()\n",
    "\n",
    "sns.heatmap(cov)\n",
    "plt.show()"
   ]
  },
  {
   "cell_type": "code",
   "execution_count": 39,
   "metadata": {},
   "outputs": [
    {
     "data": {
      "image/png": "[encoded data removed]",
      "text/plain": [
       "<Figure size 432x288 with 2 Axes>"
      ]
     },
     "metadata": {},
     "output_type": "display_data"
    }
   ],
   "source": [
    "wine.malic_acid = norm_m0_v1[:,0]\n",
    "wine.proline = norm_m0_v1[:,1]\n",
    "cov = wine.iloc[:, [1, 12]].cov()\n",
    "\n",
    "sns.heatmap(cov)\n",
    "plt.show()"
   ]
  },
  {
   "cell_type": "markdown",
   "metadata": {},
   "source": [
    ">### A partir dos gráficos plotados acima podemos concluir algumas coisas a partir das informações apresentadas. A dispersão dos dados continua a mesma após a normalização, o que faz todo o sentido dado que a alteração se dá em seus valores e não na distribuição. Os boxplots tiveram uma diferença muito boa, pois, agora é possível analisar as variáveis malic_acid e proline por meio destes, o que antes não era possível por conta das diferentes escalas das variáveis. Assim como o boxplot, a covariância também pôde ser analisada agora que os dados possuem uma escala parecida."
   ]
  },
  {
   "cell_type": "code",
   "execution_count": null,
   "metadata": {},
   "outputs": [],
   "source": []
  }
 ],
 "metadata": {
  "kernelspec": {
   "display_name": "Python 3",
   "language": "python",
   "name": "python3"
  },
  "language_info": {
   "codemirror_mode": {
    "name": "ipython",
    "version": 3
   },
   "file_extension": ".py",
   "mimetype": "text/x-python",
   "name": "python",
   "nbconvert_exporter": "python",
   "pygments_lexer": "ipython3",
   "version": "3.6.5"
  }
 },
 "nbformat": 4,
 "nbformat_minor": 2
}
